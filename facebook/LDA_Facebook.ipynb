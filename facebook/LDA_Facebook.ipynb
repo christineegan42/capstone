{
 "cells": [
  {
   "cell_type": "code",
   "execution_count": 1,
   "id": "forced-conditions",
   "metadata": {},
   "outputs": [],
   "source": [
    "import numpy as np\n",
    "import pandas as pd\n",
    "# pd.set_option('max_colwidth', 200)\n",
    "\n",
    "import re\n",
    "\n",
    "import spacy\n",
    "from spacy.language import Language\n",
    "from spacy.lang.en.stop_words import STOP_WORDS\n",
    "\n",
    "import warnings\n",
    "warnings.filterwarnings(\"ignore\", category=DeprecationWarning)\n",
    "\n",
    "from collections import Counter\n",
    "\n",
    "from src.analyze import *\n",
    "from src.vectorize import *\n",
    "from src.fb_model import *\n",
    "from src.model import *\n",
    "from eda import *\n",
    "\n",
    "from vaderSentiment.vaderSentiment import SentimentIntensityAnalyzer\n",
    "analyzer = SentimentIntensityAnalyzer()\n",
    "\n",
    "import gensim\n",
    "import gensim.corpora as corpora\n",
    "from gensim.utils import simple_preprocess\n",
    "from gensim.models import CoherenceModel"
   ]
  },
  {
   "cell_type": "code",
   "execution_count": 2,
   "id": "competent-bottom",
   "metadata": {},
   "outputs": [],
   "source": [
    "nlp = spacy.load('en_core_web_md')\n",
    "data = process_fb_data()\n",
    "data['ner'] = [doc.ents for doc in data['docs']]"
   ]
  },
  {
   "cell_type": "code",
   "execution_count": 3,
   "id": "clear-loading",
   "metadata": {},
   "outputs": [],
   "source": [
    "lib_data, con_data = split_data(data)"
   ]
  },
  {
   "cell_type": "markdown",
   "id": "boxed-progress",
   "metadata": {},
   "source": [
    "## Liberal Data"
   ]
  },
  {
   "cell_type": "code",
   "execution_count": 4,
   "id": "stopped-forwarding",
   "metadata": {},
   "outputs": [],
   "source": [
    "lib_data['lemmas'] = clean_lemmas(lib_data['docs'])\n",
    "lib_lda_model = run_lda_model(lib_data['lemmas'], 20, 20, 10, 'test_lib')\n",
    "lib_topics = list(lib_lda_model.print_topics(num_words=10))"
   ]
  },
  {
   "cell_type": "code",
   "execution_count": 5,
   "id": "registered-geometry",
   "metadata": {},
   "outputs": [
    {
     "data": {
      "text/plain": [
       "[(0,\n",
       "  '0.021*\"crisis\" + 0.012*\"people\" + 0.012*\"help\" + 0.012*\"company\" + 0.011*\"million\" + 0.010*\"climate\" + 0.010*\"government\" + 0.009*\"need\" + 0.008*\"stand\" + 0.008*\"work\"'),\n",
       " (1,\n",
       "  '0.032*\"McConnell\" + 0.032*\"Senate\" + 0.031*\"Mitch\" + 0.019*\"help\" + 0.013*\"defeat\" + 0.011*\"win\" + 0.011*\"right\" + 0.011*\"poll\" + 0.010*\"race\" + 0.009*\"Trump\"'),\n",
       " (2,\n",
       "  '0.017*\"big\" + 0.016*\"election\" + 0.016*\"state\" + 0.015*\"tool\" + 0.013*\"cut\" + 0.013*\"day\" + 0.013*\"answer\" + 0.011*\"country\" + 0.011*\"candidate\" + 0.010*\"support\"'),\n",
       " (3,\n",
       "  '0.036*\"vote\" + 0.034*\"Court\" + 0.033*\"Supreme\" + 0.031*\"Kavanaugh\" + 0.023*\"Collins\" + 0.019*\"Brett\" + 0.017*\"Susan\" + 0.015*\"Senator\" + 0.015*\"right\" + 0.014*\"like\"'),\n",
       " (4,\n",
       "  '0.031*\"Joe\" + 0.029*\"sticker\" + 0.024*\"sign\" + 0.024*\"Biden\" + 0.018*\"support\" + 0.018*\"vote\" + 0.015*\"petition\" + 0.012*\"free\" + 0.010*\"Intercept\" + 0.009*\"Americans\"'),\n",
       " (5,\n",
       "  '0.044*\"Trump\" + 0.022*\"need\" + 0.018*\"Donald\" + 0.017*\"vote\" + 0.015*\"know\" + 0.013*\"President\" + 0.011*\"House\" + 0.010*\"let\" + 0.010*\"November\" + 0.010*\"fight\"'),\n",
       " (6,\n",
       "  '0.017*\"New\" + 0.014*\"need\" + 0.014*\"Green\" + 0.014*\"Deal\" + 0.013*\"Congress\" + 0.013*\"like\" + 0.011*\"progressive\" + 0.011*\"Democrats\" + 0.009*\"Roe\" + 0.009*\"support\"'),\n",
       " (7,\n",
       "  '0.090*\"debate\" + 0.056*\"need\" + 0.048*\"stage\" + 0.040*\"donor\" + 0.036*\"help\" + 0.021*\"chip\" + 0.017*\"today\" + 0.015*\"DNC\" + 0.014*\"midnight\" + 0.014*\"democratic\"'),\n",
       " (8,\n",
       "  '0.025*\"fight\" + 0.020*\"today\" + 0.019*\"vote\" + 0.018*\"hate\" + 0.017*\"immigrant\" + 0.014*\"join\" + 0.014*\"York\" + 0.014*\"run\" + 0.014*\"found\" + 0.012*\"Gideon\"'),\n",
       " (9,\n",
       "  '0.015*\"time\" + 0.013*\"election\" + 0.013*\"value\" + 0.011*\"need\" + 0.010*\"big\" + 0.010*\"know\" + 0.010*\"free\" + 0.009*\"vote\" + 0.009*\"live\" + 0.008*\"leader\"'),\n",
       " (10,\n",
       "  '0.015*\"penzey\" + 0.015*\"com\" + 0.013*\"good\" + 0.011*\"time\" + 0.009*\"free\" + 0.009*\"Republican\" + 0.009*\"America\" + 0.008*\"Party\" + 0.008*\"https\" + 0.008*\"people\"'),\n",
       " (11,\n",
       "  '0.014*\"vote\" + 0.012*\"racist\" + 0.011*\"happen\" + 0.010*\"like\" + 0.010*\"people\" + 0.010*\"believe\" + 0.009*\"year\" + 0.008*\"go\" + 0.007*\"work\" + 0.007*\"racism\"'),\n",
       " (12,\n",
       "  '0.030*\"change\" + 0.027*\"climate\" + 0.016*\"Trump\" + 0.014*\"protect\" + 0.014*\"oil\" + 0.013*\"join\" + 0.011*\"today\" + 0.011*\"stop\" + 0.011*\"fight\" + 0.010*\"action\"'),\n",
       " (13,\n",
       "  '0.028*\"family\" + 0.013*\"end\" + 0.013*\"Trump\" + 0.013*\"child\" + 0.012*\"help\" + 0.009*\"want\" + 0.009*\"life\" + 0.009*\"woman\" + 0.009*\"win\" + 0.009*\"stop\"'),\n",
       " (14,\n",
       "  '0.033*\"campaign\" + 0.023*\"help\" + 0.018*\"win\" + 0.017*\"need\" + 0.016*\"donation\" + 0.014*\"today\" + 0.013*\"voter\" + 0.012*\"people\" + 0.012*\"deadline\" + 0.011*\"goal\"'),\n",
       " (15,\n",
       "  '0.029*\"health\" + 0.026*\"care\" + 0.022*\"Parenthood\" + 0.022*\"Planned\" + 0.022*\"right\" + 0.021*\"Trump\" + 0.019*\"fight\" + 0.018*\"administration\" + 0.017*\"people\" + 0.016*\"help\"'),\n",
       " (16,\n",
       "  '0.040*\"bit\" + 0.038*\"http\" + 0.021*\"campaign\" + 0.018*\"donation\" + 0.015*\"donate\" + 0.015*\"https\" + 0.015*\"Amy\" + 0.014*\"donor\" + 0.014*\"Elizabeth\" + 0.014*\"today\"'),\n",
       " (17,\n",
       "  '0.049*\"abortion\" + 0.033*\"ban\" + 0.024*\"state\" + 0.022*\"fight\" + 0.019*\"week\" + 0.019*\"right\" + 0.017*\"safe\" + 0.016*\"access\" + 0.016*\"year\" + 0.016*\"gun\"'),\n",
       " (18,\n",
       "  '0.026*\"donor\" + 0.021*\"time\" + 0.018*\"spend\" + 0.018*\"campaign\" + 0.016*\"chip\" + 0.014*\"fight\" + 0.014*\"like\" + 0.014*\"ewar\" + 0.014*\"ren\" + 0.012*\"Congress\"'),\n",
       " (19,\n",
       "  '0.047*\"gift\" + 0.032*\"help\" + 0.026*\"today\" + 0.025*\"match\" + 0.021*\"family\" + 0.019*\"child\" + 0.018*\"need\" + 0.017*\"send\" + 0.016*\"refugee\" + 0.015*\"donation\"')]"
      ]
     },
     "execution_count": 5,
     "metadata": {},
     "output_type": "execute_result"
    }
   ],
   "source": [
    "lib_topics"
   ]
  },
  {
   "cell_type": "markdown",
   "id": "fuzzy-arena",
   "metadata": {},
   "source": [
    "## Conservative Data"
   ]
  },
  {
   "cell_type": "code",
   "execution_count": 6,
   "id": "respiratory-resistance",
   "metadata": {},
   "outputs": [],
   "source": [
    "con_data['lemmas'] = clean_lemmas(con_data['docs'])\n",
    "con_lda_model = run_lda_model(con_data['lemmas'], 20, 20, 10, 'test_con')\n",
    "con_topics = list(con_lda_model.print_topics(num_words=10))"
   ]
  },
  {
   "cell_type": "code",
   "execution_count": 7,
   "id": "supreme-bahrain",
   "metadata": {},
   "outputs": [
    {
     "data": {
      "text/plain": [
       "[(0,\n",
       "  '0.038*\"vote\" + 0.024*\"Democrats\" + 0.023*\"american\" + 0.020*\"sign\" + 0.019*\"people\" + 0.018*\"support\" + 0.017*\"let\" + 0.016*\"didn\" + 0.016*\"Don\" + 0.015*\"gop\"'),\n",
       " (1,\n",
       "  '0.030*\"day\" + 0.026*\"Trump\" + 0.021*\"watch\" + 0.021*\"imagine\" + 0.021*\"child\" + 0.019*\"CRTV\" + 0.018*\"stand\" + 0.018*\"free\" + 0.018*\"help\" + 0.015*\"medium\"'),\n",
       " (2,\n",
       "  '0.017*\"care\" + 0.016*\"candidate\" + 0.012*\"fight\" + 0.012*\"conservative\" + 0.011*\"health\" + 0.010*\"date\" + 0.010*\"feel\" + 0.010*\"record\" + 0.009*\"deadline\" + 0.009*\"deliver\"'),\n",
       " (3,\n",
       "  '0.064*\"child\" + 0.048*\"food\" + 0.035*\"water\" + 0.034*\"help\" + 0.033*\"clean\" + 0.032*\"care\" + 0.031*\"need\" + 0.029*\"provide\" + 0.027*\"doesn\" + 0.026*\"go\"'),\n",
       " (4,\n",
       "  '0.049*\"Trump\" + 0.048*\"vote\" + 0.047*\"want\" + 0.044*\"know\" + 0.037*\"November\" + 0.035*\"President\" + 0.032*\"Republicans\" + 0.030*\"6th\" + 0.028*\"official\" + 0.028*\"commit\"'),\n",
       " (5,\n",
       "  '0.026*\"com\" + 0.022*\"https\" + 0.022*\"prageru\" + 0.022*\"woman\" + 0.019*\"sign\" + 0.018*\"girl\" + 0.016*\"yard\" + 0.016*\"think\" + 0.015*\"video\" + 0.012*\"explain\"'),\n",
       " (6,\n",
       "  '0.026*\"Dennis\" + 0.016*\"question\" + 0.015*\"find\" + 0.015*\"Witt\" + 0.015*\"Daily\" + 0.014*\"Wire\" + 0.014*\"ask\" + 0.012*\"Fireside\" + 0.012*\"Schiff\" + 0.012*\"Prager\"'),\n",
       " (7,\n",
       "  '0.059*\"Trump\" + 0.037*\"President\" + 0.032*\"official\" + 0.025*\"Joe\" + 0.019*\"want\" + 0.019*\"Biden\" + 0.018*\"like\" + 0.016*\"poll\" + 0.015*\"Sleepy\" + 0.015*\"stand\"'),\n",
       " (8,\n",
       "  '0.037*\"Vote\" + 0.024*\"want\" + 0.024*\"don\" + 0.023*\"change\" + 0.022*\"Mail\" + 0.021*\"pass\" + 0.017*\"stand\" + 0.016*\"silence\" + 0.016*\"Republican\" + 0.016*\"November\"'),\n",
       " (9,\n",
       "  '0.039*\"like\" + 0.025*\"join\" + 0.024*\"New\" + 0.022*\"Podcast\" + 0.021*\"work\" + 0.021*\"Economics\" + 0.020*\"economy\" + 0.017*\"Professor\" + 0.017*\"discuss\" + 0.016*\"Mark\"'),\n",
       " (10,\n",
       "  '0.039*\"Trump\" + 0.016*\"know\" + 0.016*\"https\" + 0.016*\"com\" + 0.015*\"trump\" + 0.015*\"donation\" + 0.015*\"keepandbear\" + 0.014*\"Service\" + 0.014*\"Postal\" + 0.012*\"President\"'),\n",
       " (11,\n",
       "  '0.042*\"build\" + 0.030*\"list\" + 0.030*\"official\" + 0.030*\"wall\" + 0.026*\"sign\" + 0.026*\"moment\" + 0.024*\"rate\" + 0.024*\"today\" + 0.023*\"poll\" + 0.023*\"Presidential\"'),\n",
       " (12,\n",
       "  '0.033*\"life\" + 0.021*\"time\" + 0.021*\"save\" + 0.017*\"good\" + 0.016*\"today\" + 0.013*\"month\" + 0.012*\"start\" + 0.011*\"know\" + 0.010*\"year\" + 0.010*\"country\"'),\n",
       " (13,\n",
       "  '0.022*\"gift\" + 0.019*\"need\" + 0.019*\"help\" + 0.015*\"defend\" + 0.015*\"today\" + 0.014*\"million\" + 0.014*\"dollar\" + 0.014*\"end\" + 0.014*\"provide\" + 0.014*\"Jack\"'),\n",
       " (14,\n",
       "  '0.036*\"help\" + 0.027*\"right\" + 0.026*\"donate\" + 0.023*\"ad\" + 0.022*\"like\" + 0.018*\"run\" + 0.018*\"goal\" + 0.017*\"defeat\" + 0.016*\"Mitch\" + 0.016*\"Democrats\"'),\n",
       " (15,\n",
       "  '0.033*\"vote\" + 0.030*\"Election\" + 0.023*\"win\" + 0.021*\"help\" + 0.021*\"campaign\" + 0.020*\"Ohio\" + 0.020*\"Special\" + 0.020*\"need\" + 0.019*\"republican\" + 0.016*\"chip\"'),\n",
       " (16,\n",
       "  '0.031*\"McConnell\" + 0.024*\"thank\" + 0.018*\"massive\" + 0.017*\"today\" + 0.017*\"input\" + 0.015*\"Mitch\" + 0.015*\"Amy\" + 0.014*\"reach\" + 0.013*\"ask\" + 0.013*\"hate\"'),\n",
       " (17,\n",
       "  '0.033*\"Trump\" + 0.016*\"wait\" + 0.016*\"today\" + 0.015*\"donation\" + 0.015*\"Obama\" + 0.013*\"gift\" + 0.013*\"right\" + 0.013*\"Bangladesh\" + 0.012*\"Donald\" + 0.012*\"rush\"'),\n",
       " (18,\n",
       "  '0.038*\"fight\" + 0.025*\"Media\" + 0.024*\"Mainstream\" + 0.020*\"need\" + 0.020*\"people\" + 0.019*\"today\" + 0.017*\"attack\" + 0.017*\"America\" + 0.017*\"future\" + 0.016*\"country\"'),\n",
       " (19,\n",
       "  '0.044*\"McConnell\" + 0.037*\"Amy\" + 0.032*\"Mitch\" + 0.030*\"McGrath\" + 0.029*\"Senate\" + 0.027*\"win\" + 0.026*\"Democrat\" + 0.020*\"poll\" + 0.018*\"match\" + 0.018*\"race\"')]"
      ]
     },
     "execution_count": 7,
     "metadata": {},
     "output_type": "execute_result"
    }
   ],
   "source": [
    "con_topics"
   ]
  },
  {
   "cell_type": "code",
   "execution_count": null,
   "id": "unusual-memory",
   "metadata": {},
   "outputs": [],
   "source": []
  }
 ],
 "metadata": {
  "kernelspec": {
   "display_name": "spacy_env",
   "language": "python",
   "name": "spacy_env"
  },
  "language_info": {
   "codemirror_mode": {
    "name": "ipython",
    "version": 3
   },
   "file_extension": ".py",
   "mimetype": "text/x-python",
   "name": "python",
   "nbconvert_exporter": "python",
   "pygments_lexer": "ipython3",
   "version": "3.9.0"
  }
 },
 "nbformat": 4,
 "nbformat_minor": 5
}
