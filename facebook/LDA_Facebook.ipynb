{
 "cells": [
  {
   "cell_type": "code",
   "execution_count": 1,
   "id": "forced-conditions",
   "metadata": {},
   "outputs": [],
   "source": [
    "import numpy as np\n",
    "import pandas as pd\n",
    "# pd.set_option('max_colwidth', 200)\n",
    "\n",
    "import re\n",
    "\n",
    "import spacy\n",
    "from spacy.language import Language\n",
    "from spacy.lang.en.stop_words import STOP_WORDS\n",
    "\n",
    "import warnings\n",
    "warnings.filterwarnings(\"ignore\", category=DeprecationWarning)\n",
    "\n",
    "from collections import Counter\n",
    "\n",
    "from src.analyze import *\n",
    "from src.vectorize import *\n",
    "from src.fb_model import *\n",
    "from src.model import *\n",
    "from eda import *\n",
    "\n",
    "from vaderSentiment.vaderSentiment import SentimentIntensityAnalyzer\n",
    "analyzer = SentimentIntensityAnalyzer()\n",
    "\n",
    "import gensim\n",
    "import gensim.corpora as corpora\n",
    "from gensim.utils import simple_preprocess\n",
    "from gensim.models import CoherenceModel"
   ]
  },
  {
   "cell_type": "code",
   "execution_count": 2,
   "id": "competent-bottom",
   "metadata": {},
   "outputs": [],
   "source": [
    "nlp = spacy.load('en_core_web_md')\n",
    "data = process_fb_data()\n",
    "data['ner'] = [doc.ents for doc in data['docs']]"
   ]
  },
  {
   "cell_type": "code",
   "execution_count": 4,
   "id": "clear-loading",
   "metadata": {},
   "outputs": [],
   "source": [
    "lib_data, con_data = split_data(data)"
   ]
  },
  {
   "cell_type": "markdown",
   "id": "boxed-progress",
   "metadata": {},
   "source": [
    "## Liberal Data"
   ]
  },
  {
   "cell_type": "code",
   "execution_count": 5,
   "id": "stopped-forwarding",
   "metadata": {},
   "outputs": [],
   "source": [
    "lib_data['lemmas'] = clean_lemmas(lib_data['docs'])\n",
    "lib_lda_model = run_lda_model(lib_data['lemmas'], 10, 30, 10, 'test_lib')\n",
    "lib_topics = list(lib_lda_model.print_topics(num_words=10))"
   ]
  },
  {
   "cell_type": "code",
   "execution_count": 6,
   "id": "registered-geometry",
   "metadata": {},
   "outputs": [
    {
     "data": {
      "text/plain": [
       "[(0,\n",
       "  '0.019*\"Senate\" + 0.018*\"Mitch\" + 0.017*\"right\" + 0.017*\"fight\" + 0.016*\"McConnell\" + 0.015*\"abortion\" + 0.011*\"gun\" + 0.011*\"need\" + 0.010*\"year\" + 0.009*\"help\"'),\n",
       " (1,\n",
       "  '0.039*\"Trump\" + 0.014*\"need\" + 0.013*\"Donald\" + 0.013*\"President\" + 0.013*\"people\" + 0.012*\"know\" + 0.010*\"add\" + 0.009*\"want\" + 0.008*\"big\" + 0.008*\"join\"'),\n",
       " (2,\n",
       "  '0.016*\"need\" + 0.016*\"climate\" + 0.013*\"New\" + 0.012*\"help\" + 0.011*\"fight\" + 0.009*\"change\" + 0.009*\"Congress\" + 0.009*\"Stacey\" + 0.009*\"Green\" + 0.008*\"Deal\"'),\n",
       " (3,\n",
       "  '0.022*\"campaign\" + 0.021*\"help\" + 0.017*\"win\" + 0.015*\"chip\" + 0.013*\"donation\" + 0.011*\"need\" + 0.010*\"million\" + 0.009*\"right\" + 0.009*\"today\" + 0.009*\"people\"'),\n",
       " (4,\n",
       "  '0.013*\"people\" + 0.012*\"refugee\" + 0.010*\"child\" + 0.010*\"know\" + 0.010*\"day\" + 0.010*\"year\" + 0.009*\"state\" + 0.009*\"help\" + 0.009*\"mom\" + 0.009*\"today\"'),\n",
       " (5,\n",
       "  '0.025*\"vote\" + 0.019*\"voter\" + 0.014*\"Trump\" + 0.013*\"election\" + 0.012*\"Beto\" + 0.011*\"November\" + 0.010*\"poll\" + 0.010*\"join\" + 0.010*\"state\" + 0.009*\"plan\"'),\n",
       " (6,\n",
       "  '0.014*\"penzey\" + 0.014*\"com\" + 0.013*\"free\" + 0.011*\"time\" + 0.011*\"good\" + 0.008*\"value\" + 0.008*\"https\" + 0.007*\"box\" + 0.007*\"need\" + 0.007*\"thank\"'),\n",
       " (7,\n",
       "  '0.071*\"debate\" + 0.046*\"need\" + 0.041*\"help\" + 0.038*\"stage\" + 0.032*\"donor\" + 0.018*\"today\" + 0.015*\"family\" + 0.014*\"DNC\" + 0.013*\"chip\" + 0.013*\"donate\"'),\n",
       " (8,\n",
       "  '0.010*\"believe\" + 0.010*\"people\" + 0.010*\"Party\" + 0.009*\"Republican\" + 0.009*\"time\" + 0.008*\"good\" + 0.007*\"like\" + 0.007*\"vote\" + 0.007*\"America\" + 0.007*\"support\"'),\n",
       " (9,\n",
       "  '0.024*\"bit\" + 0.023*\"today\" + 0.021*\"donor\" + 0.019*\"time\" + 0.019*\"http\" + 0.017*\"donation\" + 0.017*\"campaign\" + 0.017*\"donate\" + 0.016*\"gift\" + 0.013*\"like\"')]"
      ]
     },
     "execution_count": 6,
     "metadata": {},
     "output_type": "execute_result"
    }
   ],
   "source": [
    "lib_topics"
   ]
  },
  {
   "cell_type": "markdown",
   "id": "fuzzy-arena",
   "metadata": {},
   "source": [
    "## Conservative Data"
   ]
  },
  {
   "cell_type": "code",
   "execution_count": 7,
   "id": "respiratory-resistance",
   "metadata": {},
   "outputs": [],
   "source": [
    "con_data['lemmas'] = clean_lemmas(con_data['docs'])\n",
    "con_lda_model = run_lda_model(con_data['lemmas'], 10, 30, 10, 'test_con')\n",
    "con_topics = list(con_lda_model.print_topics(num_words=10))"
   ]
  },
  {
   "cell_type": "code",
   "execution_count": 8,
   "id": "supreme-bahrain",
   "metadata": {},
   "outputs": [
    {
     "data": {
      "text/plain": [
       "[(0,\n",
       "  '0.025*\"need\" + 0.017*\"Trump\" + 0.015*\"want\" + 0.011*\"President\" + 0.011*\"Joe\" + 0.011*\"say\" + 0.010*\"news\" + 0.010*\"fight\" + 0.009*\"sign\" + 0.009*\"Media\"'),\n",
       " (1,\n",
       "  '0.026*\"today\" + 0.022*\"help\" + 0.019*\"time\" + 0.014*\"gift\" + 0.011*\"country\" + 0.011*\"people\" + 0.011*\"run\" + 0.009*\"fight\" + 0.009*\"know\" + 0.009*\"public\"'),\n",
       " (2,\n",
       "  '0.038*\"vote\" + 0.023*\"com\" + 0.022*\"https\" + 0.017*\"Trump\" + 0.014*\"Don\" + 0.013*\"voter\" + 0.013*\"keepandbear\" + 0.013*\"didn\" + 0.013*\"gop\" + 0.012*\"Dennis\"'),\n",
       " (3,\n",
       "  '0.043*\"child\" + 0.040*\"need\" + 0.033*\"food\" + 0.033*\"care\" + 0.028*\"help\" + 0.027*\"water\" + 0.027*\"provide\" + 0.025*\"clean\" + 0.024*\"doesn\" + 0.018*\"day\"'),\n",
       " (4,\n",
       "  '0.021*\"people\" + 0.018*\"american\" + 0.016*\"think\" + 0.015*\"Democrats\" + 0.014*\"tell\" + 0.014*\"know\" + 0.014*\"official\" + 0.011*\"America\" + 0.011*\"President\" + 0.010*\"Trump\"'),\n",
       " (5,\n",
       "  '0.041*\"want\" + 0.029*\"stand\" + 0.022*\"official\" + 0.020*\"change\" + 0.018*\"don\" + 0.017*\"November\" + 0.016*\"Republican\" + 0.016*\"Trump\" + 0.016*\"silence\" + 0.016*\"Vote\"'),\n",
       " (6,\n",
       "  '0.037*\"McConnell\" + 0.027*\"Senate\" + 0.027*\"Mitch\" + 0.022*\"win\" + 0.021*\"Amy\" + 0.016*\"donation\" + 0.013*\"Democrats\" + 0.012*\"Turnout\" + 0.012*\"Election\" + 0.012*\"Kentucky\"'),\n",
       " (7,\n",
       "  '0.042*\"vote\" + 0.032*\"Trump\" + 0.026*\"President\" + 0.021*\"know\" + 0.020*\"November\" + 0.018*\"want\" + 0.018*\"6th\" + 0.017*\"Republicans\" + 0.016*\"republican\" + 0.015*\"commit\"'),\n",
       " (8,\n",
       "  '0.019*\"Trump\" + 0.019*\"Mail\" + 0.018*\"Vote\" + 0.018*\"pass\" + 0.017*\"donate\" + 0.017*\"Democrats\" + 0.013*\"win\" + 0.013*\"bill\" + 0.012*\"ad\" + 0.011*\"Congress\"'),\n",
       " (9,\n",
       "  '0.029*\"help\" + 0.023*\"Trump\" + 0.021*\"like\" + 0.018*\"need\" + 0.017*\"today\" + 0.016*\"right\" + 0.016*\"medium\" + 0.014*\"state\" + 0.013*\"critical\" + 0.013*\"run\"')]"
      ]
     },
     "execution_count": 8,
     "metadata": {},
     "output_type": "execute_result"
    }
   ],
   "source": [
    "con_topics"
   ]
  },
  {
   "cell_type": "code",
   "execution_count": null,
   "id": "unusual-memory",
   "metadata": {},
   "outputs": [],
   "source": []
  }
 ],
 "metadata": {
  "kernelspec": {
   "display_name": "spacy_env",
   "language": "python",
   "name": "spacy_env"
  },
  "language_info": {
   "codemirror_mode": {
    "name": "ipython",
    "version": 3
   },
   "file_extension": ".py",
   "mimetype": "text/x-python",
   "name": "python",
   "nbconvert_exporter": "python",
   "pygments_lexer": "ipython3",
   "version": "3.9.0"
  }
 },
 "nbformat": 4,
 "nbformat_minor": 5
}
